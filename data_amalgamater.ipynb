import numpy as np
import matplotlib.pyplot as plt
import matplotlib.colors as colours
import cmasher as cm
import re
import pandas as pd
# The following routine will try to consolidate the data from various files into one array
# Read in the data from all files
end = 0
HarrisPart1 = np.loadtxt('HarrisPartI.csv', delimiter=',', skiprows=1, dtype=object)
HarrisPart3 = np.loadtxt('HarrisPartIII.csv', delimiter=',', skiprows=1, dtype=object)
VanderBerg = np.loadtxt('vandenBerg_table2.csv', delimiter=',', skiprows=1, dtype=object)
Krause21 = np.loadtxt('Krause21.csv', delimiter=',', skiprows=1, dtype=object)

dtype = np.dtype([('ID', 'U10'),
 ('RA', 'U15'), ('DEC', 'U12'), ('L', np.float32), ('B', np.float32), ('R_sun', np.float32), ('R_gc', np.float32), 
 ('x', np.float32), ('y', np.float32), ('z', np.float32), ('v_r', np.float32), ('v_r_e', np.float32), ('v_LSR', np.float32), 
 ('sig_v', np.float32), ('sig_v_e', np.float32), ('c', np.float32), ('r_c', np.float32), ('r_h', np.float32), ('mu_V', np.float32),
  ('Mstar', np.float32), ('rh', np.float32), ('C5', np.float32), ('Age', np.float32), ('FeH', np.float32), 
  ('FeH2', np.float32), ('Age2', np.float32), ('Age_err', np.float32), ('HB_type', np.float32), ('R_G', np.float32), 
  ('M_V', np.float32), ('v_e0', np.float32), ('log_sigma_0', np.float32)])

amalgResult = np.empty(200, dtype=dtype)

# Initialize NGC number (column 0)

rowCnt = 0
for h1row in HarrisPart1:
    # get NGC number from Krause21 file
    # search the matching NGC number in other files
    # put them in a row of an array that will have amalgamated data for each NGC
    amalgResult = np.empty(1 , dtype=dtype)
        
    numbers_as_strings = re.findall(r'\d+', h1row[0])
    a = [int(num) for num in numbers_as_strings]
    size_a = len(a)
    if size_a == 1:
        # Here look for a matching data in other data file for the NGC
        # First consolidate Harris I and Harris III data  (Code added on Fri 17 Oct)
        # look for the rows with the same ID and pull in the value of each column into
        # the amalgamated result
        amalgResult[rowCnt]['ID'] = h1row[0]
        amalgResult[rowCnt]['RA'] = h1row[2]  
        amalgResult[rowCnt]['DEC'] = h1row[3]
        amalgResult[rowCnt]['L'] = h1row[4]
        amalgResult[rowCnt]['B'] = h1row[5]
        amalgResult[rowCnt]['R_sun'] = h1row[6]
        amalgResult[rowCnt]['R_gc'] = h1row[7]
        amalgResult[rowCnt]['x'] = h1row[8]
        amalgResult[rowCnt]['y'] = h1row[9]
        amalgResult[rowCnt]['z'] = h1row[10] 
        amalgResult[rowCnt]['v_r'] = HarrisPart3[rowCnt, 1]
        amalgResult[rowCnt]['v_r_e'] = HarrisPart3[rowCnt,2]  
        amalgResult[rowCnt]['v_LSR'] = HarrisPart3[rowCnt,3]
        amalgResult[rowCnt]['sig_v'] = HarrisPart3[rowCnt,4]
        amalgResult[rowCnt]['sig_v_e'] = HarrisPart3[rowCnt,5]
        amalgResult[rowCnt]['c'] = HarrisPart3[rowCnt,6]
        amalgResult[rowCnt]['r_c'] = HarrisPart3[rowCnt,7]
        amalgResult[rowCnt]['r_h'] = HarrisPart3[rowCnt,8]
        amalgResult[rowCnt]['mu_V'] = HarrisPart3[rowCnt,9]

        # Then pull in Krause21 data      
        mask = (Krause21[:, 1] == "NGC" + "".join(numbers_as_strings))
        #print("NGC".join(numbers_as_strings))
        selected_rows = Krause21[mask]
        if len(selected_rows) == 1: 
            print('Row found')     
            print(selected_rows)
            amalgResult[rowCnt]['Mstar'] = selected_rows[0, 3]
            amalgResult[rowCnt]['rh'] = selected_rows[0, 4]
            amalgResult[rowCnt]['C5'] = selected_rows[0, 5]
            amalgResult[rowCnt]['Age'] = selected_rows[0, 6]
            amalgResult[rowCnt]['FeH'] = selected_rows[0, 7]
            # Delete the row already pulled in
            Krause21 = np.delete(Krause21,mask,0)    

        """ amalgResult[rowCnt]['rho_0'] = HarrisPart3[rowCnt,10]
        amalgResult[rowCnt]['lg_tc'] = HarrisPart3[rowCnt,11]
        amalgResult[rowCnt]['lg_th'] = HarrisPart3[rowCnt,12]  """
        
       
        #amalgResult = np.vstack([amalgResult, newRow])
        print(amalgResult[0])
        print(HarrisPart3[0, :])
        #print(amalgResult)
        rowCnt = rowCnt + 1
        
    else: 
        continue   
    break 
