import numpy as np
import matplotlib.pyplot as plt
import matplotlib.colors as colours
import cmasher as cm
import re
# The following routine will try to consolidate the data from various files into one array
# Read in the data from all files

end = 0
HarrisPart1 = np.loadtxt('HarrisPartI.csv', delimiter=',', skiprows=1, dtype=object)
HarrisPart3 = np.loadtxt('HarrisPartIII.csv', delimiter=',', skiprows=1, dtype=object)
VanderBerg = np.loadtxt('vandenBerg_table2.csv', delimiter=',', skiprows=1, dtype=object)
Krause21 = np.loadtxt('Krause21.csv', delimiter=',', skiprows=1, dtype=object)

for krow in Krause21:
    # get NGC number from Krause21 file
    # search the matching NGC number in other files
    # put them in a row of an array that will have amalgamated data for each NGC
    numbers_as_strings = re.findall(r'\d+', krow[1])
    a = [int(num) for num in numbers_as_strings]
    size_a = len(a)
    if size_a == 1:
        # Here look for a matching data in other data file for the NGC
        
    else: continue   
    break 
