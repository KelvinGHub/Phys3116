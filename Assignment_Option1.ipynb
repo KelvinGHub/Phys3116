{
 "cells": [
  {
   "cell_type": "code",
   "execution_count": null,
   "id": "bd3a6da7",
   "metadata": {},
   "outputs": [],
   "source": []
  },
  {
   "cell_type": "code",
   "execution_count": 18,
   "id": "99e7259b",
   "metadata": {},
   "outputs": [
    {
     "name": "stdout",
     "output_type": "stream",
     "text": [
      "3\n",
      "data read\n"
     ]
    }
   ],
   "source": [
    "# This is a skeleton program for the computational assignment of PHYS3116\n",
    "# As of 30 Sep we haven't decided which option we will undertake.\n",
    "# function declaration\n",
    "# These function declarations are just for the initial starting stubs.\n",
    "# we may not necessaryly split our code contributions into these functions.\n",
    "#import numpy as np\n",
    "#import matplotlib.pyplot as plt\n",
    "#import numpy as np\n",
    "#import pandas as pd\n",
    "def  student_1():\n",
    "    return\n",
    "def student_2():\n",
    "    return\n",
    "def student_3():\n",
    "    return\n",
    "def read_data():\n",
    "    #harris_p2 = pd.read_csv('HarrisPartII.csv')\n",
    "    print(\"data read\")\n",
    "    return\n",
    "def starter():\n",
    "    print(1 + 2)\n",
    "    #open data file\n",
    "    read_data()\n",
    "    return\n",
    "1 + 2\n",
    "starter()"
   ]
  }
 ],
 "metadata": {
  "kernelspec": {
   "display_name": "Python 3",
   "language": "python",
   "name": "python3"
  },
  "language_info": {
   "codemirror_mode": {
    "name": "ipython",
    "version": 3
   },
   "file_extension": ".py",
   "mimetype": "text/x-python",
   "name": "python",
   "nbconvert_exporter": "python",
   "pygments_lexer": "ipython3",
   "version": "3.13.2"
  }
 },
 "nbformat": 4,
 "nbformat_minor": 5
}
